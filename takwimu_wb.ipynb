{
 "cells": [
  {
   "cell_type": "code",
   "execution_count": 1,
   "metadata": {},
   "outputs": [],
   "source": [
    "import pandas as pd \n",
    "import wbdata"
   ]
  },
  {
   "cell_type": "markdown",
   "metadata": {},
   "source": [
    "## Access WB Data"
   ]
  },
  {
   "cell_type": "code",
   "execution_count": 20,
   "metadata": {},
   "outputs": [],
   "source": [
    "countries = {\"Burkina Faso\":\"BF\", \"Congo, Dem. Rep.\":\"CD\", \"Ethiopia\":\"ET\", \"Kenya\":\"KE\", \"Nigeria\":\"NG\", \n",
    "          \"Senegal\":\"SN\", \"Tanzania\":\"TZ\", \"Uganda\":\"UG\", \"South Africa\":\"ZA\", \"Zambia\":\"ZM\"}\n",
    "\n",
    "country_code = list({v for (k,v) in countries.items()})"
   ]
  },
  {
   "cell_type": "code",
   "execution_count": 21,
   "metadata": {},
   "outputs": [],
   "source": [
    "def collect():\n",
    "    # generate a dict from the indicators file\n",
    "    takwimu_indicators = pd.read_csv('Takwimu_indicators.csv',\n",
    "                                     index_col=0, squeeze=True).to_dict()\n",
    "    # Gather indicator data on the selected countries\n",
    "    wb_data = wbdata.get_dataframe(takwimu_indicators, \n",
    "                                 country=country_code, convert_date=False)\n",
    "    return wb_data    "
   ]
  },
  {
   "cell_type": "code",
   "execution_count": null,
   "metadata": {},
   "outputs": [],
   "source": []
  },
  {
   "cell_type": "markdown",
   "metadata": {},
   "source": [
    "## Structure into Hurumap format"
   ]
  },
  {
   "cell_type": "code",
   "execution_count": 15,
   "metadata": {},
   "outputs": [],
   "source": [
    "def process():\n",
    "    data = pd.read_csv('data/takwimu_wb_data.csv')\n",
    "    \n",
    "#     population\n",
    "    def population():\n",
    "        df = data[['country', 'date','Population Male', 'PopulationFemale' ]]\n",
    "        df = df[df['date']==2017].drop('date', axis=1)\n",
    "        df.columns = ['name','male','female']\n",
    "\n",
    "\n",
    "        df = df.melt(id_vars='name', value_vars=['male','female'], \n",
    "                var_name='sex', value_name='total')\n",
    "\n",
    "        df['geo_code'] = df['name'].map(countries)\n",
    "        df['geo_level'] = \"country\"\n",
    "        df['geo_version'] = 2017\n",
    "\n",
    "        population = df[['geo_level','geo_code','name','geo_version','sex','total']].sort_values('name')\n",
    "\n",
    "        return population\n",
    "    \n",
    "#     basic services\n",
    "    def basic_services():\n",
    "        df = data[['country', 'date','access to basic services - Electricity','access to basic services - Water' ]]\n",
    "        df = df[df['date']==2015].drop('date', axis=1)\n",
    "        df.columns = ['name','electricity','water']\n",
    "\n",
    "\n",
    "        df = df.melt(id_vars='name', value_vars=['electricity','water'], \n",
    "                var_name='service', value_name='total')\n",
    "\n",
    "        df['geo_code'] = df['name'].map(countries)\n",
    "        df['geo_level'] = \"country\"\n",
    "        df['geo_version'] = 2015\n",
    "\n",
    "        basic_services = df[['geo_level','geo_code','name','geo_version','service','total']].sort_values('name')\n",
    "\n",
    "        return basic_services\n",
    "    \n",
    "#     youth unemployment\n",
    "\n",
    "    def youth_unemployment(): \n",
    "             \n",
    "        df = data[['country', 'date','Youth unemployment-Male','Youth unemployment - Female' ]]\n",
    "        df = df[df['date']==2015].drop('date', axis=1)\n",
    "        df.columns = ['name','male','female']\n",
    "\n",
    "\n",
    "        df = df.melt(id_vars='name', value_vars=['male','female'], \n",
    "                var_name='sex', value_name='total')\n",
    "\n",
    "        df['geo_code'] = df['name'].map(countries)\n",
    "        df['geo_level'] = \"country\"\n",
    "        df['geo_version'] = 2017\n",
    "\n",
    "        youth_unemployment = df[['geo_level','geo_code','name','geo_version','sex','total']].sort_values('name')\n",
    "\n",
    "        return youth_unemployment\n",
    "    \n",
    "       "
   ]
  }
 ],
 "metadata": {
  "kernelspec": {
   "display_name": "Python 3",
   "language": "python",
   "name": "python3"
  },
  "language_info": {
   "codemirror_mode": {
    "name": "ipython",
    "version": 3
   },
   "file_extension": ".py",
   "mimetype": "text/x-python",
   "name": "python",
   "nbconvert_exporter": "python",
   "pygments_lexer": "ipython3",
   "version": "3.6.5"
  }
 },
 "nbformat": 4,
 "nbformat_minor": 2
}
