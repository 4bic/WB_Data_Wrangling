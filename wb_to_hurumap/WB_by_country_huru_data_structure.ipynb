{
 "cells": [
  {
   "cell_type": "markdown",
   "metadata": {},
   "source": [
    "## Structure WB data to HuruMap"
   ]
  },
  {
   "cell_type": "code",
   "execution_count": 27,
   "metadata": {},
   "outputs": [],
   "source": [
    "import pandas as pd"
   ]
  },
  {
   "cell_type": "markdown",
   "metadata": {
    "scrolled": true
   },
   "source": [
    "# Load the WB data and takwimu indicators "
   ]
  },
  {
   "cell_type": "code",
   "execution_count": 28,
   "metadata": {},
   "outputs": [],
   "source": [
    "# Kenya\n",
    "# generate a dict from the indicators file\n",
    "takwimu_indicators = pd.read_csv('../data/takwimu_indicators.csv',\n",
    "                                 index_col=0, squeeze=True).to_dict()\n",
    "# Gather indicator data on the selected country\n",
    "data = pd.read_csv('../data/Kenya/WB_KEN.csv')"
   ]
  },
  {
   "cell_type": "markdown",
   "metadata": {},
   "source": [
    "### Wrangle  by Indicator"
   ]
  },
  {
   "cell_type": "code",
   "execution_count": null,
   "metadata": {},
   "outputs": [],
   "source": [
    "# population total\n",
    "def population_total():\n",
    "    \n",
    "    pop_code = ['SP.POP.TOTL.FE.IN','SP.POP.TOTL.MA.IN']\n",
    "\n",
    "    df = data.loc[data['I_code'].isin(pop_code)].drop(['I_code'],axis=1).T.reset_index()\n",
    "    df.columns = df.iloc[0]\n",
    "    df = df[1:]\n",
    "    df = df.rename(columns={\"Indicator\": 'geo_version' , \"Population, male\": 'male',\"Population, female\":'female' })\n",
    "    df['geo_code'] = 'KE'\n",
    "\n",
    "    df = df.melt(id_vars=['geo_code','geo_version'], value_vars=['female','male'],\n",
    "                var_name='sex', value_name='total')\n",
    "    population = df.set_index(['geo_code','geo_version']).sort_index() \n",
    "    \n",
    "    return population\n",
    "    "
   ]
  },
  {
   "cell_type": "code",
   "execution_count": null,
   "metadata": {},
   "outputs": [],
   "source": []
  }
 ],
 "metadata": {
  "kernelspec": {
   "display_name": "Python 3",
   "language": "python",
   "name": "python3"
  },
  "language_info": {
   "codemirror_mode": {
    "name": "ipython",
    "version": 3
   },
   "file_extension": ".py",
   "mimetype": "text/x-python",
   "name": "python",
   "nbconvert_exporter": "python",
   "pygments_lexer": "ipython3",
   "version": "3.6.8"
  }
 },
 "nbformat": 4,
 "nbformat_minor": 2
}
