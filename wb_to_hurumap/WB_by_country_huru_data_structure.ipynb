{
 "cells": [
  {
   "cell_type": "markdown",
   "metadata": {},
   "source": [
    "## Structure WB data to HuruMap"
   ]
  },
  {
   "cell_type": "code",
   "execution_count": 27,
   "metadata": {},
   "outputs": [],
   "source": [
    "import pandas as pd"
   ]
  },
  {
   "cell_type": "markdown",
   "metadata": {
    "scrolled": true
   },
   "source": [
    "# Load the WB data and takwimu indicators "
   ]
  },
  {
   "cell_type": "code",
   "execution_count": 28,
   "metadata": {},
   "outputs": [],
   "source": [
    "# Kenya\n",
    "# generate a dict from the indicators file\n",
    "takwimu_indicators = pd.read_csv('../data/takwimu_indicators.csv',\n",
    "                                 index_col=0, squeeze=True).to_dict()\n",
    "# Gather indicator data on the selected country\n",
    "data = pd.read_csv('../data/Kenya/WB_KEN.csv')"
   ]
  },
  {
   "cell_type": "markdown",
   "metadata": {},
   "source": [
    "### Wrangle  by Indicator"
   ]
  },
  {
   "cell_type": "code",
   "execution_count": 43,
   "metadata": {},
   "outputs": [],
   "source": [
    "# population total\n",
    "def population_total():\n",
    "    \n",
    "    pop_code = ['SP.POP.TOTL.FE.IN','SP.POP.TOTL.MA.IN']\n",
    "\n",
    "    df = data.loc[data['I_code'].isin(pop_code)].drop(['I_code'],axis=1).T.reset_index()\n",
    "    df.columns = df.iloc[0]\n",
    "    df = df[1:]\n",
    "    df = df.rename(columns={\"Indicator\": 'geo_version' , \"Population, male\": 'male',\"Population, female\":'female' })\n",
    "    df['geo_code'] = 'KE'\n",
    "\n",
    "    df = df.melt(id_vars=['geo_code','geo_version'], value_vars=['female','male'],\n",
    "                var_name='sex', value_name='total')\n",
    "    population = df.set_index(['geo_code','geo_version']).sort_index() \n",
    "    \n",
    "    return population\n",
    "\n",
    "# Prevalence of HIV,(% ages 15-24)\n",
    "\n",
    "def hiv_prevalence():\n",
    "    hiv_code = ['SH.HIV.1524.MA.ZS','SH.HIV.1524.FE.ZS']\n",
    "    \n",
    "    df = data.loc[data['I_code'].isin(hiv_code)].drop(['I_code'],axis=1).T.reset_index()\n",
    "    df.columns = df.iloc[0]\n",
    "    df = df[1:]\n",
    "    df = df.rename(columns={\"Indicator\": 'geo_version' , \"Prevalence of HIV, male (% ages 15-24)\": 'male',\n",
    "                            \"Prevalence of HIV, female (% ages 15-24)\":'female' })\n",
    "    df['geo_code'] = 'KE'\n",
    "\n",
    "    df = df.melt(id_vars=['geo_code','geo_version'], value_vars=['female','male'],\n",
    "                var_name='sex', value_name='total')\n",
    "    prevalence = df.set_index(['geo_code','geo_version']).sort_index() \n",
    "    \n",
    "    return prevalence\n",
    "    \n",
    "# Infant and Under 5 Mortality Rate \n",
    "\n",
    "def infant_under_5_mortality():\n",
    "    \n",
    "    hiv_code = ['SP.DYN.IMRT.IN','SH.DYN.MORT']\n",
    "    \n",
    "    df = data.loc[data['I_code'].isin(hiv_code)].drop(['I_code'],axis=1).T.reset_index()\n",
    "    df.columns = df.iloc[0]\n",
    "    df = df[1:]\n",
    "    df = df.rename(columns={\"Indicator\": 'geo_version' , \"Mortality rate, infant (per 1,000 live births)\": 'infant',\n",
    "                            \"Mortality rate, under-5 (per 1,000 live births)\":'under_5' })\n",
    "    df['geo_code'] = 'KE'\n",
    "\n",
    "    df = df.melt(id_vars=['geo_code','geo_version'], value_vars=['infant','under_5'],\n",
    "                var_name='mortality', value_name='total')\n",
    "    infant_under_5 = df.set_index(['geo_code','geo_version']).sort_index() \n",
    "    \n",
    "    return infant_under_5\n",
    "\n",
    "# Adult Literacy rate\n",
    "\n",
    "def adult_literacy_rate():\n",
    "    \n",
    "    lit_code = ['SE.ADT.LITR.FE.ZS','SE.ADT.LITR.MA.ZS']\n",
    "    \n",
    "    df = data.loc[data['I_code'].isin(lit_code)].drop(['I_code'],axis=1).T.reset_index()\n",
    "    df.columns = df.iloc[0]\n",
    "    df = df[1:]\n",
    "    df = df.rename(columns={\"Indicator\": 'geo_version' , \"Literacy rate, adult male (% of males ages 15 and above)\": 'male',\n",
    "                            \"Literacy rate, adult female (% of females ages 15 and above)\":'female' })\n",
    "    df['geo_code'] = 'KE'\n",
    "\n",
    "    df = df.melt(id_vars=['geo_code','geo_version'], value_vars=['female','male'],\n",
    "                var_name='sex', value_name='total')\n",
    "    literacy_rate = df.set_index(['geo_code','geo_version']).sort_index() \n",
    "    \n",
    "    return literacy_rate\n",
    "    \n",
    "    \n",
    "\n"
   ]
  },
  {
   "cell_type": "code",
   "execution_count": null,
   "metadata": {},
   "outputs": [],
   "source": []
  },
  {
   "cell_type": "code",
   "execution_count": null,
   "metadata": {},
   "outputs": [],
   "source": []
  }
 ],
 "metadata": {
  "kernelspec": {
   "display_name": "Python 3",
   "language": "python",
   "name": "python3"
  },
  "language_info": {
   "codemirror_mode": {
    "name": "ipython",
    "version": 3
   },
   "file_extension": ".py",
   "mimetype": "text/x-python",
   "name": "python",
   "nbconvert_exporter": "python",
   "pygments_lexer": "ipython3",
   "version": "3.6.8"
  }
 },
 "nbformat": 4,
 "nbformat_minor": 2
}
